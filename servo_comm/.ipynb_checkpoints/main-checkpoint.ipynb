{
 "cells": [
  {
   "cell_type": "code",
   "execution_count": 24,
   "metadata": {
    "collapsed": true
   },
   "outputs": [],
   "source": [
    "from client import Socket\n",
    "import numpy as np"
   ]
  },
  {
   "cell_type": "code",
   "execution_count": 25,
   "metadata": {},
   "outputs": [
    {
     "name": "stdout",
     "output_type": "stream",
     "text": [
      "trying to connect to:  raspberrypi.local 5005\n",
      "connected, use send_recv(msg) to send data\n"
     ]
    }
   ],
   "source": [
    "# run pi@raspberrypi:~/spider/servo_comm/server.py before trying to connect\n",
    "\n",
    "s = Socket()"
   ]
  },
  {
   "cell_type": "code",
   "execution_count": 28,
   "metadata": {
    "collapsed": true
   },
   "outputs": [],
   "source": [
    "# legs min -1, max 1, mid 0\n",
    "\n",
    "s.send('0,0,0,0,0,0,0,0')"
   ]
  },
  {
   "cell_type": "code",
   "execution_count": 27,
   "metadata": {},
   "outputs": [
    {
     "data": {
      "application/vnd.jupyter.widget-view+json": {
       "model_id": "2548f6e916d34b88b3b0fc76ef5c178d"
      }
     },
     "metadata": {},
     "output_type": "display_data"
    },
    {
     "data": {
      "text/plain": [
       "<function __main__.test>"
      ]
     },
     "execution_count": 27,
     "metadata": {},
     "output_type": "execute_result"
    }
   ],
   "source": [
    "# control individual legs\n",
    "\n",
    "from ipywidgets import interact\n",
    "\n",
    "def test(a1, a2, a3, a4, a5, a6, a7, a8):\n",
    "    data = \",\".join(map(str, [a1, a2, a3, a4, a5, a6, a7, a8]))\n",
    "    print(data)\n",
    "    s.send(data)\n",
    "        \n",
    "interact(test, a1=(-1, 1, .1),\n",
    "        a2=(-1, 1, .1),\n",
    "        a3=(-1, 1, .1),\n",
    "        a4=(-1, 1, .1),\n",
    "        a5=(-1, 1, .1),\n",
    "        a6=(-1, 1, .1),\n",
    "        a7=(-1, 1, .1),\n",
    "        a8=(-1, 1, .1))"
   ]
  },
  {
   "cell_type": "code",
   "execution_count": null,
   "metadata": {
    "collapsed": true
   },
   "outputs": [],
   "source": []
  }
 ],
 "metadata": {
  "kernelspec": {
   "display_name": "Python 3",
   "language": "python",
   "name": "python3"
  },
  "language_info": {
   "codemirror_mode": {
    "name": "ipython",
    "version": 3
   },
   "file_extension": ".py",
   "mimetype": "text/x-python",
   "name": "python",
   "nbconvert_exporter": "python",
   "pygments_lexer": "ipython3",
   "version": "3.6.1"
  }
 },
 "nbformat": 4,
 "nbformat_minor": 2
}
