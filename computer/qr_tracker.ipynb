{
 "cells": [
  {
   "cell_type": "code",
   "execution_count": null,
   "metadata": {},
   "outputs": [
    {
     "name": "stdout",
     "output_type": "stream",
     "text": [
      "error\n"
     ]
    }
   ],
   "source": [
    "# source https://www.learnopencv.com/barcode-and-qr-code-scanner-using-zbar-and-opencv/\n",
    "\n",
    "import pyzbar.pyzbar as pyzbar\n",
    "from pyzbar.pyzbar import ZBarSymbol\n",
    "import numpy as np\n",
    "import cv2\n",
    "\n",
    "from ipywidgets import interact\n",
    "from matplotlib import pyplot as plt\n",
    "from IPython.display import clear_output\n",
    "\n",
    "# Display barcode and QR code location  \n",
    "def display(im, decodedObjects):\n",
    " \n",
    "    # Loop over all decoded objects\n",
    "    points = []\n",
    "    for decodedObject in decodedObjects: \n",
    "        points = decodedObject.polygon\n",
    " \n",
    "    # If the points do not form a quad, find convex hull\n",
    "    if len(points) > 4 : \n",
    "        hull = cv2.convexHull(np.array([point for point in points], dtype=np.float32))\n",
    "        hull = list(map(tuple, np.squeeze(hull)))\n",
    "    else:\n",
    "        hull = points;\n",
    "     \n",
    "    # Number of points in the convex hull\n",
    "    n = len(hull)\n",
    " \n",
    "    # Draw the convext hull\n",
    "    for j in range(0,n):\n",
    "        cv2.line(im, hull[j], hull[ (j+1) % n], (255,0,0), 3)\n",
    " \n",
    "    # Display results \n",
    "    cv2.imshow(\"Results\", im)\n",
    "    if cv2.waitKey(1) & 0xFF == ord('q'):\n",
    "        pass\n",
    "    \n",
    "cap = cv2.VideoCapture(0)\n",
    "while True:\n",
    "    ret, img = cap.read()\n",
    "    img = cv2.cvtColor(img, cv2.COLOR_BGR2GRAY)\n",
    "    img = cv2.resize(img, (0,0), fx=0.6, fy=0.6)\n",
    "    try:\n",
    "        decodedObjects = pyzbar.decode(img, symbols=[ZBarSymbol.QRCODE])\n",
    "        display(img, decodedObjects)\n",
    "    except:\n",
    "        print(\"error\")"
   ]
  },
  {
   "cell_type": "code",
   "execution_count": null,
   "metadata": {
    "collapsed": true
   },
   "outputs": [],
   "source": []
  }
 ],
 "metadata": {
  "kernelspec": {
   "display_name": "Python 3",
   "language": "python",
   "name": "python3"
  },
  "language_info": {
   "codemirror_mode": {
    "name": "ipython",
    "version": 3
   },
   "file_extension": ".py",
   "mimetype": "text/x-python",
   "name": "python",
   "nbconvert_exporter": "python",
   "pygments_lexer": "ipython3",
   "version": "3.6.1"
  }
 },
 "nbformat": 4,
 "nbformat_minor": 2
}
