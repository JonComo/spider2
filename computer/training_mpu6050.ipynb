{
 "cells": [
  {
   "cell_type": "code",
   "execution_count": 3,
   "metadata": {
    "collapsed": true
   },
   "outputs": [],
   "source": [
    "import numpy as np\n",
    "from matplotlib import pyplot as plt\n",
    "from IPython.display import clear_output\n",
    "from client import Socket\n",
    "from time import sleep"
   ]
  },
  {
   "cell_type": "code",
   "execution_count": 4,
   "metadata": {},
   "outputs": [
    {
     "name": "stdout",
     "output_type": "stream",
     "text": [
      "trying to connect to:  raspberrypi.local 5005\n",
      "connected, use send_recv(msg) to send data\n"
     ]
    }
   ],
   "source": [
    "# connect\n",
    "\n",
    "s = Socket()"
   ]
  },
  {
   "cell_type": "code",
   "execution_count": 7,
   "metadata": {},
   "outputs": [
    {
     "data": {
      "text/plain": [
       "array([-12.32535015,   6.27759675, 107.32008942])"
      ]
     },
     "execution_count": 7,
     "metadata": {},
     "output_type": "execute_result"
    }
   ],
   "source": [
    "# send angles to servos\n",
    "\n",
    "def move(angles):\n",
    "    dat = np.hstack([[1], angles])\n",
    "    dat[0] = 1\n",
    "    dat = \",\".join(map(str, dat))\n",
    "    accel = s.send_recv(dat)\n",
    "    accel = np.array(accel.decode().split(\",\"))\n",
    "    return accel.astype(np.float)\n",
    "    \n",
    "move(np.random.randn(8))"
   ]
  },
  {
   "cell_type": "code",
   "execution_count": 11,
   "metadata": {},
   "outputs": [
    {
     "data": {
      "text/plain": [
       "array([ 32.05836023,  -8.55687673, 332.45405413])"
      ]
     },
     "execution_count": 11,
     "metadata": {},
     "output_type": "execute_result"
    }
   ],
   "source": [
    "# brain\n",
    "\n",
    "# new\n",
    "W = np.random.randn(8, 9)\n",
    "\n",
    "# load\n",
    "# W = np.load(\"brain_trained\")\n",
    "\n",
    "def transform(state, W):\n",
    "    state = np.hstack([state, np.ones(1)]) # append 1\n",
    "    z = W.dot(state)\n",
    "    h = np.tanh(z)\n",
    "    return h\n",
    "\n",
    "# test it\n",
    "state = np.zeros(8)\n",
    "move(state)\n",
    "sleep(1)\n",
    "\n",
    "def move_routine(W):\n",
    "    global state\n",
    "    \n",
    "    accel = np.zeros(3)\n",
    "    for i in range(3):\n",
    "        state = transform(state, W)\n",
    "        accel += move(state)\n",
    "        \n",
    "    return accel\n",
    "        \n",
    "move_routine(W)"
   ]
  },
  {
   "cell_type": "code",
   "execution_count": 12,
   "metadata": {
    "collapsed": true
   },
   "outputs": [],
   "source": [
    "# save good start W\n",
    "\n",
    "np.save(\"brain_starter\", W)\n",
    "#W = np.load(\"brain_starter.npy\")"
   ]
  },
  {
   "cell_type": "code",
   "execution_count": 13,
   "metadata": {
    "collapsed": true
   },
   "outputs": [],
   "source": [
    "# data\n",
    "\n",
    "diffs = []\n",
    "rs = []\n",
    "\n",
    "stand = np.zeros(8)\n",
    "state = stand.copy()\n",
    "move(state)\n",
    "sleep(1)"
   ]
  },
  {
   "cell_type": "code",
   "execution_count": 68,
   "metadata": {},
   "outputs": [
    {
     "data": {
      "image/png": "[encoded data removed]",
      "text/plain": [
       "<matplotlib.figure.Figure at 0x12c156e48>"
      ]
     },
     "metadata": {},
     "output_type": "display_data"
    },
    {
     "name": "stdout",
     "output_type": "stream",
     "text": [
      "done\n"
     ]
    }
   ],
   "source": [
    "# training\n",
    "\n",
    "for i in range(1):\n",
    "    # try out a different W\n",
    "    diff = np.random.randn(W.shape[0], W.shape[1]) * .1\n",
    "    trialW = W.copy() + diff\n",
    "    accel = move_routine(trialW)\n",
    "    r = accel[1]\n",
    "    rs.append(r)\n",
    "    diffs.append(diff)\n",
    "    \n",
    "plt.title(\"rewards\")\n",
    "plt.plot(rs)\n",
    "plt.show()\n",
    "\n",
    "print(\"done\")"
   ]
  },
  {
   "cell_type": "code",
   "execution_count": 61,
   "metadata": {
    "collapsed": true
   },
   "outputs": [],
   "source": [
    "W_orig = W.copy()"
   ]
  },
  {
   "cell_type": "code",
   "execution_count": 64,
   "metadata": {},
   "outputs": [
    {
     "name": "stdout",
     "output_type": "stream",
     "text": [
      "Training based on 6 collected: \n"
     ]
    }
   ],
   "source": [
    "print(\"Training based on {} collected: \".format(len(diffs)))\n",
    "\n",
    "learning_rate = .3\n",
    "\n",
    "rs_norm = np.array(rs)\n",
    "rs_norm -= np.mean(rs_norm)\n",
    "rs_norm /= np.std(rs_norm)\n",
    "\n",
    "for i in range(len(diffs)):\n",
    "    W += diffs[i] * rs_norm[i]"
   ]
  },
  {
   "cell_type": "code",
   "execution_count": 151,
   "metadata": {
    "collapsed": true
   },
   "outputs": [],
   "source": [
    "# save brain\n",
    "np.save('brain_trained', W)"
   ]
  },
  {
   "cell_type": "code",
   "execution_count": 65,
   "metadata": {
    "collapsed": true
   },
   "outputs": [],
   "source": [
    "# test it out\n",
    "for i in range(1):\n",
    "    move_routine(W)"
   ]
  },
  {
   "cell_type": "code",
   "execution_count": 67,
   "metadata": {},
   "outputs": [
    {
     "data": {
      "text/plain": [
       "array([ 5.59524928,  4.30956299, 99.7975078 ])"
      ]
     },
     "execution_count": 67,
     "metadata": {},
     "output_type": "execute_result"
    }
   ],
   "source": [
    "# reset state if needed\n",
    "\n",
    "state = stand.copy()\n",
    "move(state)"
   ]
  },
  {
   "cell_type": "code",
   "execution_count": null,
   "metadata": {
    "collapsed": true
   },
   "outputs": [],
   "source": []
  }
 ],
 "metadata": {
  "kernelspec": {
   "display_name": "Python 3",
   "language": "python",
   "name": "python3"
  },
  "language_info": {
   "codemirror_mode": {
    "name": "ipython",
    "version": 3
   },
   "file_extension": ".py",
   "mimetype": "text/x-python",
   "name": "python",
   "nbconvert_exporter": "python",
   "pygments_lexer": "ipython3",
   "version": "3.6.1"
  }
 },
 "nbformat": 4,
 "nbformat_minor": 2
}
