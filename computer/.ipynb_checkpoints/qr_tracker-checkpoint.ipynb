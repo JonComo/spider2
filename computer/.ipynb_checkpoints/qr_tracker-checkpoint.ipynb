{
 "cells": [
  {
   "cell_type": "code",
   "execution_count": 4,
   "metadata": {},
   "outputs": [
    {
     "name": "stdout",
     "output_type": "stream",
     "text": [
      "/Users/joncomo/miniconda2/envs/py36/lib/python3.6/site-packages/pyzbar/pyzbar.py\n"
     ]
    }
   ],
   "source": [
    "import cv2\n",
    "import numpy as np\n",
    "import pyzbar.pyzbar as pyzbar\n",
    "from pyzbar.pyzbar import ZBarSymbol\n",
    "from time import sleep\n",
    "\n",
    "# have to edit this file, remove convex hull code to get orientation\n",
    "print(pyzbar.__file__)"
   ]
  },
  {
   "cell_type": "code",
   "execution_count": 13,
   "metadata": {},
   "outputs": [
    {
     "name": "stdout",
     "output_type": "stream",
     "text": [
      "[0.13, 0.26, 9.85]\n",
      "[0.23, 0.2, 9.98]\n",
      "[0.34, 0.04, 10.11]\n",
      "[0.33, 0.13, 10.03]\n",
      "[0.31, 0.07, 10.13]\n",
      "[0.57, -0.07, 10.01]\n",
      "[0.54, 0.05, 10.05]\n",
      "[-0.08, 0.2, 10.22]\n",
      "[0.6, 0.06, 10.1]\n",
      "[1.08, 0.11, 10.04]\n",
      "[0.53, 0.15, 10.0]\n",
      "[-0.06, -0.14, 10.11]\n",
      "[0.33, 0.14, 10.1]\n",
      "[0.28, 0.18, 9.98]\n",
      "[0.31, 0.14, 9.97]\n",
      "[0.58, 0.28, 10.48]\n",
      "[0.54, 0.01, 10.33]\n",
      "[0.56, 0.09, 10.09]\n",
      "[0.44, 0.12, 10.06]\n"
     ]
    }
   ],
   "source": [
    "cap = cv2.VideoCapture(1)\n",
    "\n",
    "def track(img):\n",
    "    decodedObjects = []\n",
    "    \n",
    "    img = cv2.cvtColor(img, cv2.COLOR_BGR2GRAY)\n",
    "    img = cv2.resize(img, (0,0), fx=0.6, fy=0.6)\n",
    "    decodedObjects = pyzbar.decode(img, symbols=[ZBarSymbol.QRCODE])\n",
    "    \n",
    "    # Loop over all decoded objects\n",
    "    points = []\n",
    "    \n",
    "    for decodedObject in decodedObjects: \n",
    "        points = decodedObject.polygon\n",
    " \n",
    "    # If the points do not form a quad, find convex hull\n",
    "    hull = points;\n",
    "     \n",
    "    # Number of points in the convex hull\n",
    "    n = len(hull)\n",
    "    \n",
    "    if n == 0:\n",
    "        return img, -1, -1, -1\n",
    " \n",
    "    # Draw the convext hull\n",
    "    for j in range(0,n):\n",
    "        cv2.line(img, hull[j], hull[ (j+1) % n], (255,0,0), 3)\n",
    "        \n",
    "    # center\n",
    "    cx = 0\n",
    "    cy = 0\n",
    "    \n",
    "    # angle\n",
    "    angle = np.arctan2(hull[0][1] - hull[1][1], hull[0][0] - hull[1][0])\n",
    "    angle -= np.pi/2\n",
    "    \n",
    "    for i in range(n):\n",
    "        cx += hull[i][0]\n",
    "        cy += hull[i][1]\n",
    "        \n",
    "    cx /= float(n)\n",
    "    cy /= float(n)\n",
    "    \n",
    "    cv2.circle(img, (int(cx), int(cy)), 5, color=(255,255,255), thickness=2)\n",
    "    cv2.circle(img, (int(cx + np.cos(angle) * 50), int(cy + np.sin(angle) * 50)), 5, color=(255,255,255), thickness=2)\n",
    "    \n",
    "    cv2.putText(img,'{}, {}'.format(cx, cy), (10,40), cv2.FONT_HERSHEY_SIMPLEX, 1, (255,255,255), 2, cv2.LINE_AA)\n",
    "    \n",
    "    return img, cx, cy, angle\n",
    "\n",
    "while True:\n",
    "    ret, img = cap.read()\n",
    "    img, cx, cy, angle = track(img)\n",
    "    \n",
    "    # Display results \n",
    "    cv2.imshow(\"Results\", img)\n",
    "    if cv2.waitKey(1) & 0xFF == ord('q'):\n",
    "        break"
   ]
  },
  {
   "cell_type": "code",
   "execution_count": null,
   "metadata": {
    "collapsed": true
   },
   "outputs": [],
   "source": []
  }
 ],
 "metadata": {
  "kernelspec": {
   "display_name": "Python 3",
   "language": "python",
   "name": "python3"
  },
  "language_info": {
   "codemirror_mode": {
    "name": "ipython",
    "version": 3
   },
   "file_extension": ".py",
   "mimetype": "text/x-python",
   "name": "python",
   "nbconvert_exporter": "python",
   "pygments_lexer": "ipython3",
   "version": "3.6.1"
  }
 },
 "nbformat": 4,
 "nbformat_minor": 2
}
