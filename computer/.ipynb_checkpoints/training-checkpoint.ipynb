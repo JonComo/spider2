{
 "cells": [
  {
   "cell_type": "code",
   "execution_count": 43,
   "metadata": {
    "collapsed": true
   },
   "outputs": [],
   "source": [
    "import cv2\n",
    "import numpy as np\n",
    "from matplotlib import pyplot as plt\n",
    "from IPython.display import clear_output\n",
    "from client import Socket\n",
    "from time import sleep"
   ]
  },
  {
   "cell_type": "code",
   "execution_count": 44,
   "metadata": {},
   "outputs": [
    {
     "name": "stdout",
     "output_type": "stream",
     "text": [
      "trying to connect to:  raspberrypi.local 5005\n",
      "connected, use send_recv(msg) to send data\n"
     ]
    }
   ],
   "source": [
    "# connect\n",
    "\n",
    "s = Socket()"
   ]
  },
  {
   "cell_type": "code",
   "execution_count": null,
   "metadata": {},
   "outputs": [
    {
     "name": "stdout",
     "output_type": "stream",
     "text": [
      "1.0,0.0,0.0,0.0,0.0,0.0,0.0,0.0,0.0\n"
     ]
    }
   ],
   "source": [
    "dat = np.zeros(9)\n",
    "dat[0] = 1\n",
    "dat = \",\".join(map(str, dat))\n",
    "print(dat)\n",
    "s.send_recv(dat)"
   ]
  },
  {
   "cell_type": "code",
   "execution_count": 11,
   "metadata": {
    "collapsed": true
   },
   "outputs": [],
   "source": [
    "# webcam input\n",
    "\n",
    "cap = cv2.VideoCapture(0)"
   ]
  },
  {
   "cell_type": "code",
   "execution_count": 14,
   "metadata": {
    "collapsed": true
   },
   "outputs": [],
   "source": [
    "# send angles to servos\n",
    "\n",
    "def move(angles):\n",
    "    angles = np.round(angles, 2)\n",
    "    s.send(\",\".join(map(str, angles)))\n",
    "    \n",
    "move(np.random.randn(8))"
   ]
  },
  {
   "cell_type": "code",
   "execution_count": 25,
   "metadata": {
    "collapsed": true
   },
   "outputs": [],
   "source": [
    "# capture tracking templates\n",
    "\n",
    "def capture_templates():\n",
    "    ret, frame = cap.read()\n",
    "\n",
    "    # Our operations on the frame come here\n",
    "    img = cv2.cvtColor(frame, cv2.COLOR_BGR2GRAY)\n",
    "\n",
    "    # use to create templates, crop the two trackers\n",
    "    cv2.imwrite('template1.png', img)\n",
    "    cv2.imwrite('template2.png', img)\n",
    "        \n",
    "#capture_templates()"
   ]
  },
  {
   "cell_type": "code",
   "execution_count": 5,
   "metadata": {
    "collapsed": true
   },
   "outputs": [],
   "source": [
    "# camera tracking\n",
    "\n",
    "try:\n",
    "    template1 = cv2.resize(cv2.imread('template1.png',0), (0,0), fx=.5, fy=.5)\n",
    "    template2 = cv2.resize(cv2.imread('template2.png',0), (0,0), fx=.5, fy=.5)\n",
    "    templates = [template1, template2]\n",
    "    w, h = template1.shape[::-1] # templates should be same size\n",
    "except:\n",
    "    print(\"no templates found\")\n",
    "\n",
    "def capture(frames=30):\n",
    "    \n",
    "    positions = []\n",
    "    angles = []\n",
    "    \n",
    "    for i in range(frames):\n",
    "        # Capture frame-by-frame\n",
    "        ret, frame = cap.read()\n",
    "\n",
    "        # Our operations on the frame come here\n",
    "        img = cv2.cvtColor(frame, cv2.COLOR_BGR2GRAY)\n",
    "        img = cv2.resize(img, (0,0), fx=0.5, fy=0.5) \n",
    "\n",
    "        tls = []\n",
    "        for template in templates:\n",
    "            # Apply template Matching\n",
    "            res = cv2.matchTemplate(img, template, cv2.TM_CCOEFF_NORMED)\n",
    "            min_val, max_val, min_loc, max_loc = cv2.minMaxLoc(res)\n",
    "            top_left = max_loc\n",
    "            bottom_right = (top_left[0] + w, top_left[1] + h)\n",
    "            tls.append(top_left)\n",
    "            cv2.rectangle(img, top_left, bottom_right, 255, 2)\n",
    "            \n",
    "        xp1 = tls[0][1]+int(w/2)\n",
    "        yp1 = tls[0][0]+int(h/2)\n",
    "        \n",
    "        xp2 = tls[1][1]+int(w/2)\n",
    "        yp2 = tls[1][0]+int(h/2)\n",
    "        \n",
    "        xp = int((xp1 + xp2)/2.0)\n",
    "        yp = int((yp1 + yp2)/2.0)\n",
    "        \n",
    "        angle = np.arctan2(yp1-yp2, xp1-xp2)\n",
    "        \n",
    "        positions.append((xp, yp))\n",
    "        angles.append(angle)\n",
    "\n",
    "        cv2.line(img, (yp1, xp1), (yp2, xp2), 255, 2)\n",
    "        cv2.rectangle(img, (yp-4, xp-4), (yp+4, xp+4), 255, 2)\n",
    "\n",
    "        # Display the resulting frame\n",
    "        cv2.imshow('frame', img)\n",
    "        if cv2.waitKey(1) & 0xFF == ord('q'):\n",
    "            running = False\n",
    "            \n",
    "    return positions, angles"
   ]
  },
  {
   "cell_type": "code",
   "execution_count": 6,
   "metadata": {
    "collapsed": true,
    "scrolled": true
   },
   "outputs": [],
   "source": [
    "# reward function\n",
    "\n",
    "def reward(p1, a1, p2, a2):\n",
    "    p1 = p1[0]\n",
    "    a1 = a1[0]\n",
    "    \n",
    "    tx = p1[0] + np.cos(a1) * 1000\n",
    "    ty = p1[1] + np.sin(a1) * 1000\n",
    "    targ = np.array([tx, ty])\n",
    "    \n",
    "    dist1 = np.linalg.norm(p1 - targ)\n",
    "    \n",
    "    p2 = p2[0]\n",
    "    a2 = a2[0]\n",
    "    \n",
    "    dist2 = np.linalg.norm(p2 - targ)\n",
    "    \n",
    "    r = dist1 - dist2\n",
    "    return r"
   ]
  },
  {
   "cell_type": "code",
   "execution_count": 7,
   "metadata": {},
   "outputs": [
    {
     "name": "stdout",
     "output_type": "stream",
     "text": [
      "0.0\n"
     ]
    },
    {
     "ename": "KeyboardInterrupt",
     "evalue": "",
     "output_type": "error",
     "traceback": [
      "\u001b[0;31m---------------------------------------------------------------------------\u001b[0m",
      "\u001b[0;31mKeyboardInterrupt\u001b[0m                         Traceback (most recent call last)",
      "\u001b[0;32m<ipython-input-7-e7ef8a1e40a6>\u001b[0m in \u001b[0;36m<module>\u001b[0;34m()\u001b[0m\n\u001b[1;32m      2\u001b[0m \u001b[0;34m\u001b[0m\u001b[0m\n\u001b[1;32m      3\u001b[0m \u001b[0;32mwhile\u001b[0m \u001b[0;32mTrue\u001b[0m\u001b[0;34m:\u001b[0m\u001b[0;34m\u001b[0m\u001b[0m\n\u001b[0;32m----> 4\u001b[0;31m     \u001b[0mp1\u001b[0m\u001b[0;34m,\u001b[0m \u001b[0ma1\u001b[0m \u001b[0;34m=\u001b[0m \u001b[0mcapture\u001b[0m\u001b[0;34m(\u001b[0m\u001b[0mframes\u001b[0m\u001b[0;34m=\u001b[0m\u001b[0;36m1\u001b[0m\u001b[0;34m)\u001b[0m\u001b[0;34m\u001b[0m\u001b[0m\n\u001b[0m\u001b[1;32m      5\u001b[0m     \u001b[0mp2\u001b[0m\u001b[0;34m,\u001b[0m \u001b[0ma2\u001b[0m \u001b[0;34m=\u001b[0m \u001b[0mcapture\u001b[0m\u001b[0;34m(\u001b[0m\u001b[0mframes\u001b[0m\u001b[0;34m=\u001b[0m\u001b[0;36m1\u001b[0m\u001b[0;34m)\u001b[0m\u001b[0;34m\u001b[0m\u001b[0m\n\u001b[1;32m      6\u001b[0m     \u001b[0mclear_output\u001b[0m\u001b[0;34m(\u001b[0m\u001b[0mwait\u001b[0m\u001b[0;34m=\u001b[0m\u001b[0;32mTrue\u001b[0m\u001b[0;34m)\u001b[0m\u001b[0;34m\u001b[0m\u001b[0m\n",
      "\u001b[0;32m<ipython-input-5-0b7bc0d1b0cd>\u001b[0m in \u001b[0;36mcapture\u001b[0;34m(frames)\u001b[0m\n\u001b[1;32m     25\u001b[0m         \u001b[0;32mfor\u001b[0m \u001b[0mtemplate\u001b[0m \u001b[0;32min\u001b[0m \u001b[0mtemplates\u001b[0m\u001b[0;34m:\u001b[0m\u001b[0;34m\u001b[0m\u001b[0m\n\u001b[1;32m     26\u001b[0m             \u001b[0;31m# Apply template Matching\u001b[0m\u001b[0;34m\u001b[0m\u001b[0;34m\u001b[0m\u001b[0m\n\u001b[0;32m---> 27\u001b[0;31m             \u001b[0mres\u001b[0m \u001b[0;34m=\u001b[0m \u001b[0mcv2\u001b[0m\u001b[0;34m.\u001b[0m\u001b[0mmatchTemplate\u001b[0m\u001b[0;34m(\u001b[0m\u001b[0mimg\u001b[0m\u001b[0;34m,\u001b[0m \u001b[0mtemplate\u001b[0m\u001b[0;34m,\u001b[0m \u001b[0mcv2\u001b[0m\u001b[0;34m.\u001b[0m\u001b[0mTM_CCOEFF_NORMED\u001b[0m\u001b[0;34m)\u001b[0m\u001b[0;34m\u001b[0m\u001b[0m\n\u001b[0m\u001b[1;32m     28\u001b[0m             \u001b[0mmin_val\u001b[0m\u001b[0;34m,\u001b[0m \u001b[0mmax_val\u001b[0m\u001b[0;34m,\u001b[0m \u001b[0mmin_loc\u001b[0m\u001b[0;34m,\u001b[0m \u001b[0mmax_loc\u001b[0m \u001b[0;34m=\u001b[0m \u001b[0mcv2\u001b[0m\u001b[0;34m.\u001b[0m\u001b[0mminMaxLoc\u001b[0m\u001b[0;34m(\u001b[0m\u001b[0mres\u001b[0m\u001b[0;34m)\u001b[0m\u001b[0;34m\u001b[0m\u001b[0m\n\u001b[1;32m     29\u001b[0m             \u001b[0mtop_left\u001b[0m \u001b[0;34m=\u001b[0m \u001b[0mmax_loc\u001b[0m\u001b[0;34m\u001b[0m\u001b[0m\n",
      "\u001b[0;31mKeyboardInterrupt\u001b[0m: "
     ]
    }
   ],
   "source": [
    "# view reward\n",
    "\n",
    "while True:\n",
    "    p1, a1 = capture(frames=1)\n",
    "    p2, a2 = capture(frames=1)\n",
    "    clear_output(wait=True)\n",
    "    print(reward(p1, a1, p2, a2))"
   ]
  },
  {
   "cell_type": "code",
   "execution_count": null,
   "metadata": {
    "collapsed": true
   },
   "outputs": [],
   "source": [
    "# brain\n",
    "\n",
    "# new\n",
    "W = np.random.randn(8, 3)\n",
    "\n",
    "# load\n",
    "# W = np.load(\"brain_trained\")\n",
    "\n",
    "def transform(state, W):\n",
    "    state = np.hstack([state, np.ones(1)]) # append 1\n",
    "    z = W.dot(state)\n",
    "    h = np.tanh(z)\n",
    "    return h\n",
    "\n",
    "# test it\n",
    "state = np.zeros(8)\n",
    "move(state)\n",
    "sleep(1)\n",
    "\n",
    "def move_routine(W):\n",
    "    for t in np.linspace(0, np.pi*2.0, 20):\n",
    "        state = W.dot(np.array([np.sin(t), np.sin(3*t), np.sin(2*t)]))\n",
    "        move(state)\n",
    "        sleep(.1)\n",
    "        \n",
    "move_routine(W)"
   ]
  },
  {
   "cell_type": "code",
   "execution_count": 103,
   "metadata": {
    "collapsed": true
   },
   "outputs": [],
   "source": [
    "# save good start W\n",
    "\n",
    "np.save(\"brain_starter\", W)\n",
    "#W = np.load(\"brain_starter.npy\")"
   ]
  },
  {
   "cell_type": "code",
   "execution_count": 104,
   "metadata": {
    "collapsed": true
   },
   "outputs": [],
   "source": [
    "# data\n",
    "\n",
    "diffs = []\n",
    "rs = []\n",
    "\n",
    "stand = np.zeros(8)\n",
    "state = stand.copy()\n",
    "move(state)\n",
    "sleep(1)"
   ]
  },
  {
   "cell_type": "code",
   "execution_count": 202,
   "metadata": {},
   "outputs": [
    {
     "data": {
      "image/png": "[encoded data removed]",
      "text/plain": [
       "<matplotlib.figure.Figure at 0x129f4fda0>"
      ]
     },
     "metadata": {},
     "output_type": "display_data"
    },
    {
     "name": "stdout",
     "output_type": "stream",
     "text": [
      "done\n"
     ]
    }
   ],
   "source": [
    "# training\n",
    "\n",
    "for i in range(3):\n",
    "    p1, a1 = capture(frames=1)\n",
    "    \n",
    "    # try out a different W\n",
    "    diff = np.random.randn(W.shape[0], W.shape[1]) * .1\n",
    "    trialW = W.copy() + diff\n",
    "    \n",
    "    move_routine(trialW)\n",
    "    \n",
    "    p2, a2 = capture(frames=1)\n",
    "    \n",
    "    r = reward(p1, a1, p2, a2)\n",
    "    \n",
    "    rs.append(r)\n",
    "    diffs.append(diff)\n",
    "    \n",
    "plt.title(\"rewards\")\n",
    "plt.plot(rs)\n",
    "plt.show()\n",
    "\n",
    "print(\"done\")"
   ]
  },
  {
   "cell_type": "code",
   "execution_count": 205,
   "metadata": {},
   "outputs": [
    {
     "name": "stdout",
     "output_type": "stream",
     "text": [
      "Training based on 24 collected: \n"
     ]
    }
   ],
   "source": [
    "print(\"Training based on {} collected: \".format(len(diffs)))\n",
    "\n",
    "learning_rate = .1\n",
    "\n",
    "rs_norm = np.array(rs)\n",
    "rs_norm -= np.mean(rs_norm)\n",
    "rs_norm /= np.std(rs_norm)\n",
    "\n",
    "for i in range(len(diffs)):\n",
    "    W += diffs[i] * rs_norm[i]"
   ]
  },
  {
   "cell_type": "code",
   "execution_count": 151,
   "metadata": {
    "collapsed": true
   },
   "outputs": [],
   "source": [
    "# save brain\n",
    "np.save('brain_trained', W)"
   ]
  },
  {
   "cell_type": "code",
   "execution_count": 206,
   "metadata": {
    "collapsed": true
   },
   "outputs": [],
   "source": [
    "# test it out\n",
    "for i in range(10):\n",
    "    move_routine(W)"
   ]
  },
  {
   "cell_type": "code",
   "execution_count": 50,
   "metadata": {
    "collapsed": true
   },
   "outputs": [],
   "source": [
    "# reset state if needed\n",
    "\n",
    "state = stand.copy()\n",
    "move(state)"
   ]
  },
  {
   "cell_type": "code",
   "execution_count": null,
   "metadata": {
    "collapsed": true
   },
   "outputs": [],
   "source": [
    "# release the capture\n",
    "\n",
    "cap.release()\n",
    "cv2.destroyAllWindows()"
   ]
  },
  {
   "cell_type": "code",
   "execution_count": null,
   "metadata": {
    "collapsed": true
   },
   "outputs": [],
   "source": []
  }
 ],
 "metadata": {
  "kernelspec": {
   "display_name": "Python 3",
   "language": "python",
   "name": "python3"
  },
  "language_info": {
   "codemirror_mode": {
    "name": "ipython",
    "version": 3
   },
   "file_extension": ".py",
   "mimetype": "text/x-python",
   "name": "python",
   "nbconvert_exporter": "python",
   "pygments_lexer": "ipython3",
   "version": "3.6.1"
  }
 },
 "nbformat": 4,
 "nbformat_minor": 2
}
