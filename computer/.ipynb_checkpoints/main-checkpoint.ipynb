{
 "cells": [
  {
   "cell_type": "code",
   "execution_count": 1,
   "metadata": {
    "collapsed": true
   },
   "outputs": [],
   "source": [
    "from spider import Spider\n",
    "import numpy as np"
   ]
  },
  {
   "cell_type": "code",
   "execution_count": 2,
   "metadata": {},
   "outputs": [
    {
     "name": "stdout",
     "output_type": "stream",
     "text": [
      "trying to connect to:  raspberrypi.local 5005\n",
      "connected, use send_recv(msg) to send data\n"
     ]
    }
   ],
   "source": [
    "# run pi@raspberrypi.local:~/spider2/raspberrypi/server.py before trying to connect\n",
    "\n",
    "s = Spider()"
   ]
  },
  {
   "cell_type": "code",
   "execution_count": 8,
   "metadata": {},
   "outputs": [
    {
     "name": "stdout",
     "output_type": "stream",
     "text": [
      "[0.34, -0.18, 10.03]\n"
     ]
    }
   ],
   "source": [
    "# legs min -1, max 1, mid 0\n",
    "dat = s.move(np.random.randn(8), msg_type=1, sleep_time=.1, accel=60)\n",
    "print(dat)"
   ]
  },
  {
   "cell_type": "code",
   "execution_count": 40,
   "metadata": {},
   "outputs": [
    {
     "data": {
      "application/vnd.jupyter.widget-view+json": {
       "model_id": "a7ac897b2e29479193aa49fd0244deae"
      }
     },
     "metadata": {},
     "output_type": "display_data"
    },
    {
     "data": {
      "text/plain": [
       "<function __main__.test>"
      ]
     },
     "execution_count": 40,
     "metadata": {},
     "output_type": "execute_result"
    }
   ],
   "source": [
    "# control individual legs\n",
    "\n",
    "from ipywidgets import interact\n",
    "\n",
    "def test(a1, a2, a3, a4, a5, a6, a7, a8):\n",
    "    s.move([a1, a2, a3, a4, a5, a6, a7, a8], msg_type=0, sleep_time=.1, accel=60)\n",
    "        \n",
    "interact(test, a1=(-1, 1, .1),\n",
    "        a2=(-1, 1, .1),\n",
    "        a3=(-1, 1, .1),\n",
    "        a4=(-1, 1, .1),\n",
    "        a5=(-1, 1, .1),\n",
    "        a6=(-1, 1, .1),\n",
    "        a7=(-1, 1, .1),\n",
    "        a8=(-1, 1, .1))"
   ]
  },
  {
   "cell_type": "code",
   "execution_count": null,
   "metadata": {
    "collapsed": true
   },
   "outputs": [],
   "source": []
  }
 ],
 "metadata": {
  "kernelspec": {
   "display_name": "Python 3",
   "language": "python",
   "name": "python3"
  },
  "language_info": {
   "codemirror_mode": {
    "name": "ipython",
    "version": 3
   },
   "file_extension": ".py",
   "mimetype": "text/x-python",
   "name": "python",
   "nbconvert_exporter": "python",
   "pygments_lexer": "ipython3",
   "version": "3.6.1"
  }
 },
 "nbformat": 4,
 "nbformat_minor": 2
}
