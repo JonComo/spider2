{
 "cells": [
  {
   "cell_type": "code",
   "execution_count": 10,
   "metadata": {
    "collapsed": true
   },
   "outputs": [],
   "source": [
    "from spider import Spider\n",
    "import numpy as np\n",
    "from time import sleep"
   ]
  },
  {
   "cell_type": "code",
   "execution_count": 12,
   "metadata": {},
   "outputs": [
    {
     "name": "stdout",
     "output_type": "stream",
     "text": [
      "trying to connect to:  raspberrypi.local 5005\n",
      "connected, use send_recv(msg) to send data\n"
     ]
    }
   ],
   "source": [
    "# run pi@raspberrypi.local:~/spider2/raspberrypi/server.py before trying to connect\n",
    "\n",
    "s = Spider()"
   ]
  },
  {
   "cell_type": "code",
   "execution_count": null,
   "metadata": {},
   "outputs": [],
   "source": [
    "# legs min -1, max 1, mid 0\n",
    "s.move(np.array([0,0,0,0,0,0,0,0]), msg_type=1, sleep_time=.1, accel=60)"
   ]
  },
  {
   "cell_type": "code",
   "execution_count": 5,
   "metadata": {},
   "outputs": [
    {
     "data": {
      "application/vnd.jupyter.widget-view+json": {
       "model_id": "f4435a535d4e40ceb364c422e1e091b5"
      }
     },
     "metadata": {},
     "output_type": "display_data"
    },
    {
     "data": {
      "text/plain": [
       "<function __main__.test>"
      ]
     },
     "execution_count": 5,
     "metadata": {},
     "output_type": "execute_result"
    }
   ],
   "source": [
    "# control individual legs\n",
    "\n",
    "from ipywidgets import interact\n",
    "\n",
    "def test(a1, a2, a3, a4, a5, a6, a7, a8):\n",
    "    s.move([a1, a2, a3, a4, a5, a6, a7, a8], msg_type=0, sleep_time=.1, accel=60)\n",
    "        \n",
    "interact(test, a1=(-1, 1, .1),\n",
    "        a2=(-1, 1, .1),\n",
    "        a3=(-1, 1, .1),\n",
    "        a4=(-1, 1, .1),\n",
    "        a5=(-1, 1, .1),\n",
    "        a6=(-1, 1, .1),\n",
    "        a7=(-1, 1, .1),\n",
    "        a8=(-1, 1, .1))"
   ]
  },
  {
   "cell_type": "code",
   "execution_count": null,
   "metadata": {
    "collapsed": true
   },
   "outputs": [],
   "source": []
  }
 ],
 "metadata": {
  "kernelspec": {
   "display_name": "Python 3",
   "language": "python",
   "name": "python3"
  },
  "language_info": {
   "codemirror_mode": {
    "name": "ipython",
    "version": 3
   },
   "file_extension": ".py",
   "mimetype": "text/x-python",
   "name": "python",
   "nbconvert_exporter": "python",
   "pygments_lexer": "ipython3",
   "version": "3.6.1"
  }
 },
 "nbformat": 4,
 "nbformat_minor": 2
}
