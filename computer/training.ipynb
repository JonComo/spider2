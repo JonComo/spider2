{
 "cells": [
  {
   "cell_type": "code",
   "execution_count": 3,
   "metadata": {
    "collapsed": true
   },
   "outputs": [],
   "source": [
    "import cv2\n",
    "\n",
    "# QR\n",
    "import pyzbar.pyzbar as pyzbar\n",
    "from pyzbar.pyzbar import ZBarSymbol\n",
    "\n",
    "import numpy as np\n",
    "from matplotlib import pyplot as plt\n",
    "from IPython.display import clear_output\n",
    "from client import Socket\n",
    "from time import sleep\n",
    "\n",
    "from spider import Spider"
   ]
  },
  {
   "cell_type": "code",
   "execution_count": 4,
   "metadata": {},
   "outputs": [
    {
     "name": "stdout",
     "output_type": "stream",
     "text": [
      "/Users/joncomo/miniconda2/envs/py36/lib/python3.6/site-packages/pyzbar/pyzbar.py\n"
     ]
    }
   ],
   "source": [
    "# have to edit this file, remove convex hull code\n",
    "print(pyzbar.__file__)"
   ]
  },
  {
   "cell_type": "code",
   "execution_count": 5,
   "metadata": {},
   "outputs": [
    {
     "name": "stdout",
     "output_type": "stream",
     "text": [
      "trying to connect to:  raspberrypi.local 5005\n",
      "connected, use send_recv(msg) to send data\n"
     ]
    }
   ],
   "source": [
    "# connect\n",
    "\n",
    "s = Spider()"
   ]
  },
  {
   "cell_type": "code",
   "execution_count": 6,
   "metadata": {
    "collapsed": true
   },
   "outputs": [],
   "source": [
    "# send angles to servos\n",
    "\n",
    "angles = []\n",
    "for t in np.linspace(0, 2*np.pi, 10):\n",
    "    for i in range(8):\n",
    "        angles.append(np.sin(t))\n",
    "    \n",
    "s.move(angles, sleep_time=.1, accel=60)"
   ]
  },
  {
   "cell_type": "code",
   "execution_count": 8,
   "metadata": {
    "collapsed": true
   },
   "outputs": [],
   "source": [
    "# start webcam\n",
    "\n",
    "cap = cv2.VideoCapture(1)"
   ]
  },
  {
   "cell_type": "code",
   "execution_count": 9,
   "metadata": {
    "collapsed": true
   },
   "outputs": [],
   "source": [
    "# webcam input tracks any QR code\n",
    "decodedObjects = []\n",
    "def track(img):\n",
    "    global decodedObjects\n",
    "    img = cv2.cvtColor(img, cv2.COLOR_BGR2GRAY)\n",
    "    img = cv2.resize(img, (0,0), fx=0.6, fy=0.6)\n",
    "    decodedObjects = pyzbar.decode(img, symbols=[ZBarSymbol.QRCODE])\n",
    "    \n",
    "    # Loop over all decoded objects\n",
    "    points = []\n",
    "    \n",
    "    for decodedObject in decodedObjects: \n",
    "        points = decodedObject.polygon\n",
    " \n",
    "    # If the points do not form a quad, find convex hull\n",
    "    hull = points;\n",
    "     \n",
    "    # Number of points in the convex hull\n",
    "    n = len(hull)\n",
    "    \n",
    "    if n == 0:\n",
    "        return img, -1, -1, -1\n",
    " \n",
    "    # Draw the convext hull\n",
    "    for j in range(0,n):\n",
    "        cv2.line(img, hull[j], hull[ (j+1) % n], (255,0,0), 3)\n",
    "        \n",
    "    # center\n",
    "    cx = 0\n",
    "    cy = 0\n",
    "    \n",
    "    # angle\n",
    "    angle = np.arctan2(hull[0][1] - hull[1][1], hull[0][0] - hull[1][0])\n",
    "    angle -= np.pi/2\n",
    "    \n",
    "    for i in range(n):\n",
    "        cx += hull[i][0]\n",
    "        cy += hull[i][1]\n",
    "        \n",
    "    cx /= float(n)\n",
    "    cy /= float(n)\n",
    "    \n",
    "    cv2.circle(img, (int(cx), int(cy)), 5, color=(255,255,255), thickness=2)\n",
    "    cv2.circle(img, (int(cx + np.cos(angle) * 50), int(cy + np.sin(angle) * 50)), 5, color=(255,255,255), thickness=2)\n",
    "    \n",
    "    cv2.putText(img,'{}, {}'.format(cx, cy), (10,40), cv2.FONT_HERSHEY_SIMPLEX, 1, (255,255,255), 2, cv2.LINE_AA)\n",
    "    \n",
    "    return img, cx, cy, angle"
   ]
  },
  {
   "cell_type": "code",
   "execution_count": 10,
   "metadata": {
    "collapsed": true
   },
   "outputs": [],
   "source": [
    "while True:\n",
    "    ret, img = cap.read()\n",
    "    img, cx, cy, angle = track(img)\n",
    "    # Display results \n",
    "    cv2.imshow(\"Results\", img)\n",
    "    if cv2.waitKey(1) & 0xFF == ord('q'):\n",
    "        break"
   ]
  },
  {
   "cell_type": "code",
   "execution_count": 12,
   "metadata": {
    "collapsed": true
   },
   "outputs": [],
   "source": [
    "# brain\n",
    "\n",
    "# new\n",
    "W = np.random.randn(8, 5) * 1.1\n",
    "\n",
    "# load\n",
    "# W = np.load(\"brain_trained\")\n",
    "\n",
    "def transform(state, W):\n",
    "    state = np.hstack([state, np.ones(1)]) # append 1\n",
    "    z = W.dot(state)\n",
    "    h = np.tanh(z)\n",
    "    return h\n",
    "\n",
    "def move_routine(state, W, callback=None):\n",
    "    states = np.array([])\n",
    "    st = .2\n",
    "    num = 10\n",
    "    for t in np.linspace(0, 2 * np.pi, num):\n",
    "        state = W.dot(np.array([np.sin(t), np.cos(t), np.sin(t/2), np.cos(t/2), 1]))\n",
    "        #state = state * .5 + .5 * transform(state, W)\n",
    "        states = np.hstack((states, state))\n",
    "    s.move(states, sleep_time=st, accel=60)\n",
    "    for i in range(num):\n",
    "        if callback:\n",
    "            callback()\n",
    "        sleep(st)\n",
    "\n",
    "state = np.zeros(8)\n",
    "move_routine(state, W)"
   ]
  },
  {
   "cell_type": "code",
   "execution_count": 13,
   "metadata": {
    "collapsed": true
   },
   "outputs": [],
   "source": [
    "# see effects of small perturbations\n",
    "\n",
    "state = np.zeros(8)\n",
    "move_routine(state, W + .3 * np.random.randn(W.shape[0], W.shape[1]))"
   ]
  },
  {
   "cell_type": "code",
   "execution_count": 25,
   "metadata": {
    "collapsed": true
   },
   "outputs": [],
   "source": [
    "# save good start W\n",
    "\n",
    "#np.save(\"brain_starter\", W)\n",
    "#W = np.load(\"brain_starter.npy\")"
   ]
  },
  {
   "cell_type": "code",
   "execution_count": 67,
   "metadata": {
    "collapsed": true
   },
   "outputs": [],
   "source": [
    "# data\n",
    "\n",
    "diffs = []\n",
    "rs = []\n",
    "\n",
    "stand = np.zeros(8)\n",
    "state = stand.copy()\n",
    "move(state)\n",
    "sleep(1)"
   ]
  },
  {
   "cell_type": "code",
   "execution_count": 70,
   "metadata": {},
   "outputs": [
    {
     "data": {
      "image/png": "[encoded data removed]",
      "text/plain": [
       "<matplotlib.figure.Figure at 0x128adb6d8>"
      ]
     },
     "metadata": {},
     "output_type": "display_data"
    },
    {
     "name": "stdout",
     "output_type": "stream",
     "text": [
      "done\n"
     ]
    }
   ],
   "source": [
    "# training\n",
    "\n",
    "for i in range(10):\n",
    "    ret, img = cap.read()\n",
    "    img, cx1, cy1, angle = track(img)\n",
    "        \n",
    "    targx = cx1 + np.cos(angle) * 500\n",
    "    targy = cy1 + np.sin(angle) * 500\n",
    "    \n",
    "    cv2.imshow(\"Results\", img)\n",
    "    if cv2.waitKey(1) & 0xFF == ord('q'):\n",
    "        break\n",
    "        \n",
    "    if cx1 < 100 or cx1 > 600 or cy1 < 100 or cy1 > 400:\n",
    "        print(\"out of bounds\")\n",
    "        break\n",
    "    \n",
    "    # try out a different W\n",
    "    diff = np.random.randn(W.shape[0], W.shape[1]) * .3\n",
    "    trialW = W + diff\n",
    "    move_routine(state, trialW)\n",
    "    sleep(1.5)\n",
    "    \n",
    "    ret, img = cap.read()\n",
    "    img, cx2, cy2, angle = track(img)\n",
    "    \n",
    "    dx = cx2 - targx\n",
    "    dy = cy2 - targy\n",
    "    dist = np.sqrt(dx*dx + dy*dy)\n",
    "    \n",
    "    r = 500 - dist\n",
    "    \n",
    "    rs.append(r)\n",
    "    diffs.append(diff)\n",
    "    \n",
    "    cv2.imshow(\"Results\", img)\n",
    "    if cv2.waitKey(1) & 0xFF == ord('q'):\n",
    "        break\n",
    "    \n",
    "plt.title(\"rewards\")\n",
    "plt.plot(rs)\n",
    "plt.show()\n",
    "\n",
    "print(\"done\")"
   ]
  },
  {
   "cell_type": "code",
   "execution_count": 71,
   "metadata": {},
   "outputs": [
    {
     "data": {
      "image/png": "[encoded data removed]",
      "text/plain": [
       "<matplotlib.figure.Figure at 0x130984eb8>"
      ]
     },
     "metadata": {},
     "output_type": "display_data"
    }
   ],
   "source": [
    "# normalize rewards\n",
    "\n",
    "rs_norm = np.array(rs)\n",
    "rs_norm -= np.mean(rs_norm)\n",
    "rs_norm /= np.std(rs_norm)\n",
    "\n",
    "plt.title(\"rewards\")\n",
    "plt.plot(rs_norm)\n",
    "plt.show()"
   ]
  },
  {
   "cell_type": "code",
   "execution_count": 82,
   "metadata": {},
   "outputs": [
    {
     "name": "stdout",
     "output_type": "stream",
     "text": [
      "Training based on 24 collected: \n"
     ]
    }
   ],
   "source": [
    "# train\n",
    "\n",
    "print(\"Training based on {} collected: \".format(len(diffs)))\n",
    "learning_rate = .25\n",
    "for i in range(len(diffs)):\n",
    "    W += diffs[i] * rs_norm[i] * learning_rate"
   ]
  },
  {
   "cell_type": "code",
   "execution_count": 81,
   "metadata": {
    "collapsed": true
   },
   "outputs": [],
   "source": [
    "# save brain\n",
    "# np.save('brain_trained', W)"
   ]
  },
  {
   "cell_type": "code",
   "execution_count": 86,
   "metadata": {
    "collapsed": true
   },
   "outputs": [],
   "source": [
    "# test it out\n",
    "def display_img():\n",
    "    ret, img = cap.read()\n",
    "    img, cx1, cy1, angle = track(img)\n",
    "\n",
    "    cv2.imshow(\"Results\", img)\n",
    "    cv2.waitKey(1)\n",
    "    \n",
    "for i in range(1):\n",
    "    move_routine(state, W, callback=display_img)"
   ]
  },
  {
   "cell_type": "code",
   "execution_count": 50,
   "metadata": {
    "collapsed": true
   },
   "outputs": [],
   "source": [
    "# reset state if needed\n",
    "\n",
    "state = stand.copy()\n",
    "move(state)"
   ]
  },
  {
   "cell_type": "code",
   "execution_count": 6,
   "metadata": {
    "collapsed": true
   },
   "outputs": [],
   "source": [
    "# release the capture\n",
    "\n",
    "cap.release()\n",
    "cv2.destroyAllWindows()"
   ]
  },
  {
   "cell_type": "code",
   "execution_count": null,
   "metadata": {
    "collapsed": true
   },
   "outputs": [],
   "source": []
  }
 ],
 "metadata": {
  "kernelspec": {
   "display_name": "Python 3",
   "language": "python",
   "name": "python3"
  },
  "language_info": {
   "codemirror_mode": {
    "name": "ipython",
    "version": 3
   },
   "file_extension": ".py",
   "mimetype": "text/x-python",
   "name": "python",
   "nbconvert_exporter": "python",
   "pygments_lexer": "ipython3",
   "version": "3.6.1"
  }
 },
 "nbformat": 4,
 "nbformat_minor": 2
}
