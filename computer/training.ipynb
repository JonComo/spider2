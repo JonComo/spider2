{
 "cells": [
  {
   "cell_type": "code",
   "execution_count": 5,
   "metadata": {
    "collapsed": true
   },
   "outputs": [],
   "source": [
    "import cv2\n",
    "import numpy as np\n",
    "from matplotlib import pyplot as plt\n",
    "from IPython.display import clear_output\n",
    "from client import Socket\n",
    "from time import sleep"
   ]
  },
  {
   "cell_type": "code",
   "execution_count": 6,
   "metadata": {},
   "outputs": [
    {
     "name": "stdout",
     "output_type": "stream",
     "text": [
      "trying to connect to:  raspberrypi.local 5005\n",
      "connected, use send_recv(msg) to send data\n"
     ]
    }
   ],
   "source": [
    "# connect\n",
    "\n",
    "s = Socket()"
   ]
  },
  {
   "cell_type": "code",
   "execution_count": 10,
   "metadata": {},
   "outputs": [
    {
     "ename": "KeyboardInterrupt",
     "evalue": "",
     "output_type": "error",
     "traceback": [
      "\u001b[0;31m---------------------------------------------------------------------------\u001b[0m",
      "\u001b[0;31mKeyboardInterrupt\u001b[0m                         Traceback (most recent call last)",
      "\u001b[0;32m<ipython-input-10-cd06f3c50082>\u001b[0m in \u001b[0;36m<module>\u001b[0;34m()\u001b[0m\n\u001b[1;32m     64\u001b[0m     \u001b[0mclear_output\u001b[0m\u001b[0;34m(\u001b[0m\u001b[0mwait\u001b[0m\u001b[0;34m=\u001b[0m\u001b[0;32mTrue\u001b[0m\u001b[0;34m)\u001b[0m\u001b[0;34m\u001b[0m\u001b[0m\n\u001b[1;32m     65\u001b[0m \u001b[0;34m\u001b[0m\u001b[0m\n\u001b[0;32m---> 66\u001b[0;31m     \u001b[0mp1\u001b[0m\u001b[0;34m,\u001b[0m \u001b[0ma1\u001b[0m \u001b[0;34m=\u001b[0m \u001b[0mcapture\u001b[0m\u001b[0;34m(\u001b[0m\u001b[0mframes\u001b[0m\u001b[0;34m=\u001b[0m\u001b[0;36m1\u001b[0m\u001b[0;34m)\u001b[0m\u001b[0;34m\u001b[0m\u001b[0m\n\u001b[0m\u001b[1;32m     67\u001b[0m     \u001b[0mp1\u001b[0m \u001b[0;34m=\u001b[0m \u001b[0mp1\u001b[0m\u001b[0;34m[\u001b[0m\u001b[0;36m0\u001b[0m\u001b[0;34m]\u001b[0m\u001b[0;34m\u001b[0m\u001b[0m\n\u001b[1;32m     68\u001b[0m     \u001b[0ma1\u001b[0m \u001b[0;34m=\u001b[0m \u001b[0ma1\u001b[0m\u001b[0;34m[\u001b[0m\u001b[0;36m0\u001b[0m\u001b[0;34m]\u001b[0m\u001b[0;34m\u001b[0m\u001b[0m\n",
      "\u001b[0;32m<ipython-input-10-cd06f3c50082>\u001b[0m in \u001b[0;36mcapture\u001b[0;34m(frames)\u001b[0m\n\u001b[1;32m     29\u001b[0m         \u001b[0;32mfor\u001b[0m \u001b[0mtemplate\u001b[0m \u001b[0;32min\u001b[0m \u001b[0mtemplates\u001b[0m\u001b[0;34m:\u001b[0m\u001b[0;34m\u001b[0m\u001b[0m\n\u001b[1;32m     30\u001b[0m             \u001b[0;31m# Apply template Matching\u001b[0m\u001b[0;34m\u001b[0m\u001b[0;34m\u001b[0m\u001b[0m\n\u001b[0;32m---> 31\u001b[0;31m             \u001b[0mres\u001b[0m \u001b[0;34m=\u001b[0m \u001b[0mcv2\u001b[0m\u001b[0;34m.\u001b[0m\u001b[0mmatchTemplate\u001b[0m\u001b[0;34m(\u001b[0m\u001b[0mimg\u001b[0m\u001b[0;34m,\u001b[0m \u001b[0mtemplate\u001b[0m\u001b[0;34m,\u001b[0m \u001b[0mcv2\u001b[0m\u001b[0;34m.\u001b[0m\u001b[0mTM_CCOEFF_NORMED\u001b[0m\u001b[0;34m)\u001b[0m\u001b[0;34m\u001b[0m\u001b[0m\n\u001b[0m\u001b[1;32m     32\u001b[0m             \u001b[0mmin_val\u001b[0m\u001b[0;34m,\u001b[0m \u001b[0mmax_val\u001b[0m\u001b[0;34m,\u001b[0m \u001b[0mmin_loc\u001b[0m\u001b[0;34m,\u001b[0m \u001b[0mmax_loc\u001b[0m \u001b[0;34m=\u001b[0m \u001b[0mcv2\u001b[0m\u001b[0;34m.\u001b[0m\u001b[0mminMaxLoc\u001b[0m\u001b[0;34m(\u001b[0m\u001b[0mres\u001b[0m\u001b[0;34m)\u001b[0m\u001b[0;34m\u001b[0m\u001b[0m\n\u001b[1;32m     33\u001b[0m             \u001b[0mtop_left\u001b[0m \u001b[0;34m=\u001b[0m \u001b[0mmax_loc\u001b[0m\u001b[0;34m\u001b[0m\u001b[0m\n",
      "\u001b[0;31mKeyboardInterrupt\u001b[0m: "
     ]
    }
   ],
   "source": [
    "# training\n",
    "\n",
    "template1 = cv2.resize(cv2.imread('template1.png',0), (0,0), fx=.5, fy=.5)\n",
    "template2 = cv2.resize(cv2.imread('template2.png',0), (0,0), fx=.5, fy=.5)\n",
    "\n",
    "templates = [template1, template2]\n",
    "w, h = template1.shape[::-1] # templates should be same size\n",
    "\n",
    "cap = cv2.VideoCapture(0)\n",
    "\n",
    "def capture(frames=30):\n",
    "    global running\n",
    "    \n",
    "    positions = []\n",
    "    angles = []\n",
    "    \n",
    "    for i in range(frames):\n",
    "        # Capture frame-by-frame\n",
    "        ret, frame = cap.read()\n",
    "\n",
    "        # Our operations on the frame come here\n",
    "        img = cv2.cvtColor(frame, cv2.COLOR_BGR2GRAY)\n",
    "        img = cv2.resize(img, (0,0), fx=0.5, fy=0.5) \n",
    "\n",
    "        # use to create templates\n",
    "        # cv2.imwrite('out.png', img)\n",
    "\n",
    "        tls = []\n",
    "        for template in templates:\n",
    "            # Apply template Matching\n",
    "            res = cv2.matchTemplate(img, template, cv2.TM_CCOEFF_NORMED)\n",
    "            min_val, max_val, min_loc, max_loc = cv2.minMaxLoc(res)\n",
    "            top_left = max_loc\n",
    "            bottom_right = (top_left[0] + w, top_left[1] + h)\n",
    "            tls.append(top_left)\n",
    "            cv2.rectangle(img, top_left, bottom_right, 255, 2)\n",
    "            \n",
    "        xp1 = tls[0][1]+int(w/2)\n",
    "        yp1 = tls[0][0]+int(h/2)\n",
    "        \n",
    "        xp2 = tls[1][1]+int(w/2)\n",
    "        yp2 = tls[1][0]+int(h/2)\n",
    "        \n",
    "        xp = int((xp1 + xp2)/2.0)\n",
    "        yp = int((yp1 + yp2)/2.0)\n",
    "        \n",
    "        angle = np.arctan2(yp1-yp2, xp1-xp2)\n",
    "        \n",
    "        positions.append((xp, yp))\n",
    "        angles.append(angle)\n",
    "\n",
    "        cv2.line(img, (yp1, xp1), (yp2, xp2), 255, 2)\n",
    "        cv2.rectangle(img, (yp-4, xp-4), (yp+4, xp+4), 255, 2)\n",
    "\n",
    "        # Display the resulting frame\n",
    "        cv2.imshow('frame', img)\n",
    "        if cv2.waitKey(1) & 0xFF == ord('q'):\n",
    "            running = False\n",
    "            \n",
    "    return positions, angles\n",
    "\n",
    "def move(angles):\n",
    "    s.send(\",\".join(map(str, angles)))\n",
    "\n",
    "    \n",
    "stand = np.zeros(8)\n",
    "best_move = np.zeros(8)\n",
    "best_d = 10000\n",
    "\n",
    "running = True\n",
    "while(running):\n",
    "    clear_output(wait=True)\n",
    "    \n",
    "    p1, a1 = capture(frames=1)\n",
    "    p1 = p1[0]\n",
    "    a1 = a1[0]\n",
    "    \n",
    "    tx = p1[0] + np.cos(a1) * 100\n",
    "    ty = p1[1] + np.sin(a1) * 100\n",
    "    targ = np.array([tx, ty])\n",
    "    \n",
    "    move(stand)\n",
    "    sleep(1)\n",
    "    \n",
    "    # random\n",
    "    trial = best_move + np.random.randn(8) * .5\n",
    "    move(trial)\n",
    "    sleep(1)\n",
    "    \n",
    "    move(stand)\n",
    "    sleep(1)\n",
    "    \n",
    "    p2, a2 = capture(frames=1)\n",
    "    p2 = p2[0]\n",
    "    a2 = a2[0]\n",
    "    \n",
    "    dist = np.linalg.norm(p2 - targ)\n",
    "    if dist < best_d:\n",
    "        best_move = move.copy()\n",
    "    \n",
    "    \n",
    "print(\"done\")"
   ]
  },
  {
   "cell_type": "code",
   "execution_count": null,
   "metadata": {
    "collapsed": true
   },
   "outputs": [],
   "source": [
    "# When everything done, release the capture\n",
    "cap.release()\n",
    "cv2.destroyAllWindows()"
   ]
  }
 ],
 "metadata": {
  "kernelspec": {
   "display_name": "Python 3",
   "language": "python",
   "name": "python3"
  },
  "language_info": {
   "codemirror_mode": {
    "name": "ipython",
    "version": 3
   },
   "file_extension": ".py",
   "mimetype": "text/x-python",
   "name": "python",
   "nbconvert_exporter": "python",
   "pygments_lexer": "ipython3",
   "version": "3.6.1"
  }
 },
 "nbformat": 4,
 "nbformat_minor": 2
}
